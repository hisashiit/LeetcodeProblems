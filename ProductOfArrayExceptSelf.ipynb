{
 "cells": [
  {
   "cell_type": "code",
   "execution_count": 41,
   "id": "85845546",
   "metadata": {},
   "outputs": [],
   "source": [
    "from typing import List\n",
    "class Solution:\n",
    "    def productExceptSelf(self, nums: List[int]) -> List[int]:\n",
    "        product = []\n",
    "        a = 1\n",
    "        for i in range(len(nums)):\n",
    "            for j in range(len(nums)):\n",
    "                if i == j:\n",
    "                    continue\n",
    "                a = a*nums[j]\n",
    "            product.append(a)\n",
    "            a=1\n",
    "        return product"
   ]
  },
  {
   "cell_type": "code",
   "execution_count": 42,
   "id": "a4577efb",
   "metadata": {},
   "outputs": [
    {
     "name": "stdout",
     "output_type": "stream",
     "text": [
      "[]\n"
     ]
    }
   ],
   "source": [
    "nums = [-1,1,0,-3,3]\n",
    "product = []\n",
    "a = 1\n",
    "for i in range(len(nums)):\n",
    "    a = a*nums[i]\n",
    "    a=1\n",
    "print(product)"
   ]
  },
  {
   "cell_type": "code",
   "execution_count": 43,
   "id": "ab76ce77",
   "metadata": {},
   "outputs": [
    {
     "data": {
      "text/plain": [
       "[24, 12, 8, 6]"
      ]
     },
     "execution_count": 43,
     "metadata": {},
     "output_type": "execute_result"
    }
   ],
   "source": [
    "nums = [1,2,3,4]\n",
    "testing = Solution()\n",
    "testing.productExceptSelf(nums)"
   ]
  },
  {
   "cell_type": "code",
   "execution_count": 44,
   "id": "d9119be6",
   "metadata": {},
   "outputs": [
    {
     "name": "stdout",
     "output_type": "stream",
     "text": [
      "[1, 1, 1, 1, 1]\n",
      "1\n",
      "1\n",
      "2\n",
      "6\n",
      "24\n",
      "Inicio do sufixo__________\n",
      "24\n",
      "30\n",
      "40\n",
      "60\n",
      "120\n",
      "[120, 60, 40, 30, 24]\n"
     ]
    }
   ],
   "source": [
    "nums = [1,2,3,4,5]\n",
    "prefix = 1\n",
    "product = [1]*len(nums)\n",
    "print(product)\n",
    "#left multiplying\n",
    "for i in range(len(nums)):\n",
    "    product[i] = prefix\n",
    "    prefix = prefix*nums[i]\n",
    "    print(product[i])\n",
    "\n",
    "#right multiplying\n",
    "n = len(nums)\n",
    "suffix = 1\n",
    "print(\"Inicio do sufixo__________\")\n",
    "for j in range(n-1, -1, -1):\n",
    "    product[j] = product[j]*suffix\n",
    "    suffix = suffix*nums[j]\n",
    "    print(product[j])\n",
    "print(product)"
   ]
  },
  {
   "cell_type": "code",
   "execution_count": 45,
   "id": "8d26de3d",
   "metadata": {},
   "outputs": [],
   "source": [
    "class Solution:\n",
    "    def productExceptSelf(self, nums: List[int]) -> List[int]:\n",
    "        prefix = 1\n",
    "        product = [1]*len(nums)\n",
    "        #left multiplying\n",
    "        for i in range(len(nums)):\n",
    "            product[i] = prefix\n",
    "            prefix = prefix*nums[i]\n",
    "\n",
    "        #right multiplying\n",
    "        n = len(nums)\n",
    "        suffix = 1\n",
    "        for j in range(n-1, -1, -1):\n",
    "            product[j] = product[j]*suffix\n",
    "            suffix = suffix*nums[j]\n",
    "        return product\n",
    "    "
   ]
  },
  {
   "cell_type": "code",
   "execution_count": 46,
   "id": "bcab2172",
   "metadata": {},
   "outputs": [
    {
     "data": {
      "text/plain": [
       "[24, 12, 8, 6]"
      ]
     },
     "execution_count": 46,
     "metadata": {},
     "output_type": "execute_result"
    }
   ],
   "source": [
    "nums = [1, 2, 3, 4]\n",
    "answer = Solution()\n",
    "answer.productExceptSelf(nums)"
   ]
  }
 ],
 "metadata": {
  "kernelspec": {
   "display_name": "Python 3",
   "language": "python",
   "name": "python3"
  },
  "language_info": {
   "codemirror_mode": {
    "name": "ipython",
    "version": 3
   },
   "file_extension": ".py",
   "mimetype": "text/x-python",
   "name": "python",
   "nbconvert_exporter": "python",
   "pygments_lexer": "ipython3",
   "version": "3.12.4"
  }
 },
 "nbformat": 4,
 "nbformat_minor": 5
}
