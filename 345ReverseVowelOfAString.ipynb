{
 "cells": [
  {
   "cell_type": "code",
   "execution_count": null,
   "id": "e90e9097",
   "metadata": {},
   "outputs": [
    {
     "name": "stdout",
     "output_type": "stream",
     "text": [
      "['I', 'e', 'e', 'A']\n",
      "['A', 'e', 'e', 'I']\n",
      "0\n",
      "1\n",
      "2\n",
      "3\n",
      "4\n",
      "5\n",
      "6\n",
      "7\n",
      "['A', 'c', 'e', 'C', 'r', 'e', 'I', 'm']\n",
      "AceCreIm\n"
     ]
    }
   ],
   "source": [
    "#input\n",
    "s = 'IceCreAm'\n",
    "####\n",
    "\n",
    "list_vowel = ['a', 'e', 'i', 'o', 'u']\n",
    "list_change = []\n",
    "for i in range(len(s)):\n",
    "    if s[i].lower() in list_vowel:\n",
    "        list_change.append(s[i])\n",
    "list_s = list(s)\n",
    "print(list_change)\n",
    "list_change = list_change[::-1]\n",
    "print(list_change)\n",
    "\n",
    "ka = 0\n",
    "for i in range(len(s)):\n",
    "    print(i)\n",
    "    if list_s[i].lower() in list_vowel:\n",
    "        list_s[i] = list_change[ka]\n",
    "        ka = ka+1\n",
    "print(list_s)\n",
    "s = ''.join(list_s)\n",
    "print(s)\n"
   ]
  },
  {
   "cell_type": "code",
   "execution_count": 1,
   "id": "053b1839",
   "metadata": {},
   "outputs": [],
   "source": [
    "class Solution:\n",
    "    def reverseVowels(self, s: str) -> str:\n",
    "        list_vowel = ['a', 'e', 'i', 'o', 'u']\n",
    "        list_change = []\n",
    "        for i in range(len(s)):\n",
    "            if s[i].lower() in list_vowel:\n",
    "                list_change.append(s[i])\n",
    "        list_s = list(s)\n",
    "        #print(list_change)\n",
    "        list_change = list_change[::-1]\n",
    "        #print(list_change)\n",
    "\n",
    "        ka = 0\n",
    "        for i in range(len(s)):\n",
    "            #print(i)\n",
    "            if list_s[i].lower() in list_vowel:\n",
    "                list_s[i] = list_change[ka]\n",
    "                ka = ka+1\n",
    "        #print(list_s)\n",
    "        s = ''.join(list_s)\n",
    "        return s\n"
   ]
  },
  {
   "cell_type": "code",
   "execution_count": 4,
   "id": "d50cbae1",
   "metadata": {},
   "outputs": [
    {
     "data": {
      "text/plain": [
       "'leotcede'"
      ]
     },
     "execution_count": 4,
     "metadata": {},
     "output_type": "execute_result"
    }
   ],
   "source": [
    "sah = Solution()\n",
    "s = 'leetcode'\n",
    "sah.reverseVowels(s)"
   ]
  }
 ],
 "metadata": {
  "kernelspec": {
   "display_name": "Python 3",
   "language": "python",
   "name": "python3"
  },
  "language_info": {
   "codemirror_mode": {
    "name": "ipython",
    "version": 3
   },
   "file_extension": ".py",
   "mimetype": "text/x-python",
   "name": "python",
   "nbconvert_exporter": "python",
   "pygments_lexer": "ipython3",
   "version": "3.12.4"
  }
 },
 "nbformat": 4,
 "nbformat_minor": 5
}
