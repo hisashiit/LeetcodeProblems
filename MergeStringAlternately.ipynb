{
 "cells": [
  {
   "cell_type": "code",
   "execution_count": 14,
   "id": "0e3e4c5c",
   "metadata": {},
   "outputs": [
    {
     "name": "stdout",
     "output_type": "stream",
     "text": [
      "apbqcd\n"
     ]
    }
   ],
   "source": [
    "# 1768. Merge Strings Alternately\n",
    "word1 = \"abcd\"\n",
    "word2 = \"pq\"\n",
    "a = ''\n",
    "if len(word1) == len(word2):\n",
    "    for i in range(len(word1)):\n",
    "        a = a + word1[i]\n",
    "        a = a + word2[i]\n",
    "if len(word1) > len(word2):\n",
    "    for i in range(len(word2)):\n",
    "        a = a + word1[i]\n",
    "        a = a + word2[i]\n",
    "        last = i+1\n",
    "    for i in range(last,len(word1)):\n",
    "        a = a + word1[i]\n",
    "if len(word2) > len(word1):\n",
    "    for i in range(len(word2)):\n",
    "        a = a + word2[i]\n",
    "        a = a + word1[i]\n",
    "        last = i+1\n",
    "    for i in range(last,len(word2)):\n",
    "        a = a + word2[i]\n",
    "print(a)"
   ]
  },
  {
   "cell_type": "code",
   "execution_count": 15,
   "id": "503c4829",
   "metadata": {},
   "outputs": [],
   "source": [
    "class Solution:\n",
    "    def mergeAlternately(self, word1: str, word2: str) -> str:\n",
    "        a = ''\n",
    "        if len(word1) == len(word2):\n",
    "            for i in range(len(word1)):\n",
    "                a = a + word1[i]\n",
    "                a = a + word2[i]\n",
    "        if len(word1) > len(word2):\n",
    "            for i in range(len(word2)):\n",
    "                a = a + word1[i]\n",
    "                a = a + word2[i]\n",
    "                last = i+1\n",
    "            for i in range(last,len(word1)):\n",
    "                a = a + word1[i]\n",
    "        if len(word2) > len(word1):\n",
    "            for i in range(len(word1)):\n",
    "                a = a + word1[i]\n",
    "                a = a + word2[i]\n",
    "                last = i+1\n",
    "            for i in range(last,len(word2)):\n",
    "                a = a + word2[i]\n",
    "        return a"
   ]
  },
  {
   "cell_type": "code",
   "execution_count": 16,
   "id": "c88d20e3",
   "metadata": {},
   "outputs": [
    {
     "data": {
      "text/plain": [
       "'apbqrs'"
      ]
     },
     "execution_count": 16,
     "metadata": {},
     "output_type": "execute_result"
    }
   ],
   "source": [
    "jota = Solution()\n",
    "jota.mergeAlternately('ab', 'pqrs')"
   ]
  }
 ],
 "metadata": {
  "kernelspec": {
   "display_name": "Python 3",
   "language": "python",
   "name": "python3"
  },
  "language_info": {
   "codemirror_mode": {
    "name": "ipython",
    "version": 3
   },
   "file_extension": ".py",
   "mimetype": "text/x-python",
   "name": "python",
   "nbconvert_exporter": "python",
   "pygments_lexer": "ipython3",
   "version": "3.12.4"
  }
 },
 "nbformat": 4,
 "nbformat_minor": 5
}
