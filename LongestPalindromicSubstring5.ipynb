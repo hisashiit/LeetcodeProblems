{
 "cells": [
  {
   "cell_type": "code",
   "execution_count": 290,
   "id": "b6a46032",
   "metadata": {},
   "outputs": [
    {
     "name": "stdout",
     "output_type": "stream",
     "text": [
      "sasas\n",
      "32\n",
      "['aa', 'sasas', 'aaa', '', 'asasa', 'sasas', 'aaa', '', 'aaa', '', 'aaa', '', 'aaaaa', 'aaa', 'fafaf', 'aaaaa', '', '']\n"
     ]
    }
   ],
   "source": [
    "s = 'asacasarasajaafaaf'\n",
    "n = len(s)\n",
    "subs = ['']*n\n",
    "check = 0\n",
    "iterador = int(n/2)\n",
    "for i in range (len(s)):\n",
    "    for j in range(len(s)-1,i,-1):\n",
    "        if s[i] == s[j]:\n",
    "            check = check + 1\n",
    "            #print(f\"{s[i]} {s[j]} foi adicionado\")\n",
    "            subs[i] = subs[i] + s[i] + s[j]\n",
    "            if i+1 < n and i+1 != j-1:\n",
    "                if s[i+1] == s[j-1]:\n",
    "                    check = check + i\n",
    "                    index = int(len(subs[i])/2)\n",
    "                    #print(f\"{s[i]} {s[j]} foi adicionado\")\n",
    "                    toinsert = s[i+1] + s[j-1]\n",
    "                    #subs[i] = subs[i] + s[i+1] + s[j-1]\n",
    "                    subs[i] = subs[i][:index] + toinsert + subs[i][index:]\n",
    "                else:\n",
    "                    check = 0\n",
    "                    subs[i] = ''\n",
    "            if check > 0 and i :\n",
    "                index = int(len(subs[i])/2)\n",
    "                #print(f\"{s[i]} {s[j]} foi adicionado\")\n",
    "                toinsert = s[i]\n",
    "                #subs[i] = subs[i] + s[i+1] + s[j-1]\n",
    "                subs[i] = subs[i][:index] + toinsert + subs[i][index:]\n",
    "                break\n",
    "            \n",
    "\n",
    "subaa = max(subs)\n",
    "print(subaa)\n",
    "print(check)\n",
    "print(subs)"
   ]
  },
  {
   "cell_type": "code",
   "execution_count": 291,
   "id": "a31d585f",
   "metadata": {},
   "outputs": [
    {
     "name": "stdout",
     "output_type": "stream",
     "text": [
      "10\n",
      "9\n",
      "8\n",
      "7\n",
      "6\n",
      "5\n",
      "4\n",
      "3\n",
      "2\n",
      "1\n"
     ]
    }
   ],
   "source": [
    "for i in range(10, 0, -1):\n",
    "    print(i)"
   ]
  },
  {
   "cell_type": "code",
   "execution_count": 292,
   "id": "b91ca47b",
   "metadata": {},
   "outputs": [
    {
     "name": "stdout",
     "output_type": "stream",
     "text": [
      "['aa', '', 'ss', '', 'ff', '', 'aa', 'aa', 'aa', 'aa', 'aa', 'aaaa', 'dd', '', 'aa', '']\n"
     ]
    }
   ],
   "source": [
    "s = 'aassffaaaaaaddaa'\n",
    "n = len(s)\n",
    "subs = ['']*n\n",
    "check = 0\n",
    "index = 0\n",
    "iterador = int(n/2)\n",
    "for i in range (len(s)):\n",
    "    for j in range(len(s)-1, i, -1):\n",
    "        if s[i] == s[j]:\n",
    "            check = check + 1\n",
    "            #print(f\"{s[i]} {s[j]} foi adicionado\")\n",
    "            toinsert = s[i] + s[j]\n",
    "            #subs[i] = subs[i] + s[i+1] + s[j-1]\n",
    "            subs[i] = toinsert \n",
    "            #print(f\"{s[i]} {s[j]} foi adicionado\n",
    "            it_z = j - i\n",
    "            it_z = int(it_z/2)\n",
    "            for z in range(it_z):\n",
    "                if s[i+z] == s[j-z]:\n",
    "                    index = int(len(subs[i])/2)\n",
    "                    #print(f\"{s[i]} {s[j]} foi adicionado\")\n",
    "                    toinsert = s[i+z] + s[j-z]\n",
    "                    #subs[i] = subs[i] + s[i+1] + s[j-1]\n",
    "                    subs[i] = subs[i][:index] + toinsert + subs[i][index:]\n",
    "                else:\n",
    "                    subs[i] = ''\n",
    "                    break\n",
    "print(subs)\n",
    "\n"
   ]
  },
  {
   "cell_type": "code",
   "execution_count": 293,
   "id": "c2253b87",
   "metadata": {},
   "outputs": [
    {
     "name": "stdout",
     "output_type": "stream",
     "text": [
      "Longest Palindromic Substring: aaaaaa\n"
     ]
    }
   ],
   "source": [
    "s = \"aassffaaaaaaddaa\"\n",
    "n = len(s)\n",
    "longest = \"\"\n",
    "\n",
    "for i in range(n):\n",
    "    for j in range(i, n):\n",
    "        substring = s[i:j+1]\n",
    "        if substring == substring[::-1]:  # Check if it's a palindrome\n",
    "            if len(substring) > len(longest):\n",
    "                longest = substring\n",
    "\n",
    "print(\"Longest Palindromic Substring:\", longest)\n",
    "\n"
   ]
  },
  {
   "cell_type": "code",
   "execution_count": 294,
   "id": "a2285f16",
   "metadata": {},
   "outputs": [
    {
     "name": "stdout",
     "output_type": "stream",
     "text": [
      "jjjsaraooo\n"
     ]
    }
   ],
   "source": [
    "input = 'jjjooo'\n",
    "index = int(len(input)/2)\n",
    "input = input[:index] + 'sara' + input[index:]\n",
    "print(input)"
   ]
  },
  {
   "cell_type": "code",
   "execution_count": 295,
   "id": "05cdbc22",
   "metadata": {},
   "outputs": [
    {
     "name": "stdout",
     "output_type": "stream",
     "text": [
      "0\n",
      "a a foi adicionado\n",
      "7\n",
      "Somando\n",
      "a a foi adicionado\n",
      "6\n",
      "Breakou\n",
      "o subs[0] = s\n",
      "a a foi adicionado\n",
      "5\n",
      "Somando\n",
      "Somando\n",
      "Somando\n",
      "Somando\n"
     ]
    },
    {
     "ename": "IndexError",
     "evalue": "string index out of range",
     "output_type": "error",
     "traceback": [
      "\u001b[1;31m---------------------------------------------------------------------------\u001b[0m",
      "\u001b[1;31mIndexError\u001b[0m                                Traceback (most recent call last)",
      "Cell \u001b[1;32mIn[295], line 25\u001b[0m\n\u001b[0;32m     23\u001b[0m     \u001b[38;5;28mprint\u001b[39m(\u001b[38;5;124mf\u001b[39m\u001b[38;5;124m\"\u001b[39m\u001b[38;5;124mo subs[\u001b[39m\u001b[38;5;132;01m{\u001b[39;00mi\u001b[38;5;132;01m}\u001b[39;00m\u001b[38;5;124m] = \u001b[39m\u001b[38;5;132;01m{\u001b[39;00msubs[i]\u001b[38;5;132;01m}\u001b[39;00m\u001b[38;5;124m\"\u001b[39m)\n\u001b[0;32m     24\u001b[0m     \u001b[38;5;28;01mbreak\u001b[39;00m\n\u001b[1;32m---> 25\u001b[0m \u001b[38;5;28;01mif\u001b[39;00m \u001b[43ms\u001b[49m\u001b[43m[\u001b[49m\u001b[43mid_esq\u001b[49m\u001b[43m]\u001b[49m \u001b[38;5;241m==\u001b[39m s[id_dir]:\n\u001b[0;32m     26\u001b[0m     \u001b[38;5;28mprint\u001b[39m(\u001b[38;5;124m\"\u001b[39m\u001b[38;5;124mSomando\u001b[39m\u001b[38;5;124m\"\u001b[39m)\n\u001b[0;32m     27\u001b[0m     subs[i] \u001b[38;5;241m=\u001b[39m subs[i][:sublen] \u001b[38;5;241m+\u001b[39m s[id_esq] \u001b[38;5;241m+\u001b[39m s[i][sublen:]\n",
      "\u001b[1;31mIndexError\u001b[0m: string index out of range"
     ]
    }
   ],
   "source": [
    "s = 'aassaaaa'\n",
    "n = len(s)\n",
    "subs = ['']*n\n",
    "check = 0\n",
    "index = 0\n",
    "iterador = int(n/2)\n",
    "for i in range (len(s)):\n",
    "    print(i)\n",
    "    for j in range(len(s)-1, i, -1):\n",
    "        if s[i] == s[j]:\n",
    "            print(f\"{s[i]} {s[j]} foi adicionado\")\n",
    "            subs[i] = subs[i] + s[i] + s[j]\n",
    "            it_z = j-i\n",
    "            print(it_z)\n",
    "            while check == 0:\n",
    "                z = z+1\n",
    "                id_esq = i + z\n",
    "                id_dir = j - z\n",
    "                sublen = int(it_z/2)\n",
    "                if id_esq == id_dir:\n",
    "                    subs[i] = s[id_esq]\n",
    "                    print(\"Breakou\")\n",
    "                    print(f\"o subs[{i}] = {subs[i]}\")\n",
    "                    break\n",
    "                if s[id_esq] == s[id_dir]:\n",
    "                    print(\"Somando\")\n",
    "                    subs[i] = subs[i][:sublen] + s[id_esq] + s[i][sublen:]\n",
    "                if s[id_esq] != s[id_dir]:\n",
    "                    subs[i] == ''\n",
    "                    break\n",
    "\n",
    "print(subs)\n",
    "            \n"
   ]
  },
  {
   "cell_type": "code",
   "execution_count": null,
   "id": "98e2cd11",
   "metadata": {},
   "outputs": [],
   "source": [
    "def isPalindrome(a: str):\n",
    "    return a == a[::-1]\n"
   ]
  },
  {
   "cell_type": "code",
   "execution_count": null,
   "id": "57328210",
   "metadata": {},
   "outputs": [
    {
     "name": "stdout",
     "output_type": "stream",
     "text": [
      "True\n",
      "True\n",
      "False\n"
     ]
    }
   ],
   "source": [
    "examples_pa = [\"ajja\", \"allllla\", \"aslaa\"]\n",
    "for example in examples_pa:\n",
    "    print(isPalindrome(example))\n",
    "\n"
   ]
  },
  {
   "cell_type": "code",
   "execution_count": null,
   "id": "020ee5a7",
   "metadata": {},
   "outputs": [
    {
     "name": "stdout",
     "output_type": "stream",
     "text": [
      "aajsjaa\n"
     ]
    }
   ],
   "source": [
    "def isPalindrome(a: str):\n",
    "    return a == a[::-1]\n",
    "s = \"ajjjasjaajsjaaaaaaa\"\n",
    "array = []\n",
    "lenarray = 0\n",
    "bestarray = []\n",
    "lenbestarray = 0\n",
    "for i in range(len(s)):\n",
    "    #print(s[0:i:1])\n",
    "    for j in range(len(s)):\n",
    "        if isPalindrome(s[i:j]):\n",
    "            #print(\"executing if\")\n",
    "            array = s[i:j]\n",
    "            lenarray = len(array)\n",
    "            if lenarray > lenbestarray:\n",
    "                bestarray = array[:]\n",
    "                lenbestarray = lenarray\n",
    "\n",
    "print(bestarray)\n",
    "        \n"
   ]
  },
  {
   "cell_type": "code",
   "execution_count": 296,
   "id": "658aac7a",
   "metadata": {},
   "outputs": [],
   "source": [
    "class Solution:\n",
    "    def longestPalindrome(self, s: str) -> str:\n",
    "        def isPalindrome(a: str):\n",
    "            return a == a[::-1]\n",
    "        #s = \"ajjjasjaajsjaaaaaaa\"\n",
    "        array = []\n",
    "        lenarray = 0\n",
    "        bestarray = []\n",
    "        lenbestarray = 0\n",
    "        for i in range(len(s)):\n",
    "            #print(s[0:i:1])\n",
    "            for j in range(len(s)):\n",
    "                if isPalindrome(s[i:j]):\n",
    "                    #print(\"executing if\")\n",
    "                    array = s[i:j]\n",
    "                    lenarray = len(array)\n",
    "                    if lenarray > lenbestarray:\n",
    "                        bestarray = array[:]\n",
    "                        lenbestarray = lenarray\n",
    "                        s = bestarray\n",
    "        return s\n"
   ]
  },
  {
   "cell_type": "code",
   "execution_count": 297,
   "id": "ee02ca91",
   "metadata": {},
   "outputs": [
    {
     "data": {
      "text/plain": [
       "'b'"
      ]
     },
     "execution_count": 297,
     "metadata": {},
     "output_type": "execute_result"
    }
   ],
   "source": [
    "doing = Solution()\n",
    "s = \"babad\"\n",
    "doing.longestPalindrome(s)"
   ]
  }
 ],
 "metadata": {
  "kernelspec": {
   "display_name": "Python 3",
   "language": "python",
   "name": "python3"
  },
  "language_info": {
   "codemirror_mode": {
    "name": "ipython",
    "version": 3
   },
   "file_extension": ".py",
   "mimetype": "text/x-python",
   "name": "python",
   "nbconvert_exporter": "python",
   "pygments_lexer": "ipython3",
   "version": "3.12.4"
  }
 },
 "nbformat": 4,
 "nbformat_minor": 5
}
