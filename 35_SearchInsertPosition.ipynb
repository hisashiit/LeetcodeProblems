{
 "cells": [
  {
   "cell_type": "code",
   "execution_count": 9,
   "id": "525a3470",
   "metadata": {},
   "outputs": [],
   "source": [
    "#35.Search Insert Position\n",
    "\n",
    "from typing import List\n",
    "class Solution:\n",
    "    def searchInsert(self, nums: List[int], target: int) -> int:\n",
    "        left = 0\n",
    "        right = len(nums) - 1\n",
    "        while left <= right:\n",
    "            index_mid =(right + left)// 2 \n",
    "            #print(index_mid)\n",
    "            if nums[index_mid] == target:\n",
    "                return index_mid\n",
    "            elif nums[index_mid] < target:\n",
    "                left = index_mid + 1\n",
    "                #print(index_mid)\n",
    "            elif nums[index_mid] > target:\n",
    "                right = index_mid - 1\n",
    "                #print(index_mid)     \n",
    "        return left\n"
   ]
  },
  {
   "cell_type": "code",
   "execution_count": 10,
   "id": "1a3996e7",
   "metadata": {},
   "outputs": [
    {
     "data": {
      "text/plain": [
       "4"
      ]
     },
     "execution_count": 10,
     "metadata": {},
     "output_type": "execute_result"
    }
   ],
   "source": [
    "nums = [1,3,5,6]\n",
    "target = 7\n",
    "answer = Solution()\n",
    "answer.searchInsert(nums, target)"
   ]
  },
  {
   "cell_type": "code",
   "execution_count": 15,
   "id": "166ba297",
   "metadata": {},
   "outputs": [],
   "source": [
    "list = ['a', 'b', 'c', 'd', 'e', 'f', 'g', 'h', 'i', 'j', 'k', 'l', 'm', 'n', \"o\", \"p\", \"q\", \"r\", \"s\", \"t\", \"u\", \"v\", \"w\", \"x\", \"y\", \"z\"]"
   ]
  }
 ],
 "metadata": {
  "kernelspec": {
   "display_name": "Python 3",
   "language": "python",
   "name": "python3"
  },
  "language_info": {
   "codemirror_mode": {
    "name": "ipython",
    "version": 3
   },
   "file_extension": ".py",
   "mimetype": "text/x-python",
   "name": "python",
   "nbconvert_exporter": "python",
   "pygments_lexer": "ipython3",
   "version": "3.12.4"
  }
 },
 "nbformat": 4,
 "nbformat_minor": 5
}
