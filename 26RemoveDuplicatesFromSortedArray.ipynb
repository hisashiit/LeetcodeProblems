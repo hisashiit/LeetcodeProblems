{
 "cells": [
  {
   "cell_type": "code",
   "execution_count": 22,
   "id": "413139b3",
   "metadata": {},
   "outputs": [],
   "source": [
    "from typing import List\n",
    "def removeDuplicates(nums: List):\n",
    "    expectedNums = []\n",
    "    a = False\n",
    "    left = 0\n",
    "    right = 1\n",
    "    while right < len(nums):\n",
    "        if nums[left] == nums[right]:\n",
    "            right = right + 1\n",
    "        else:\n",
    "            expectedNums.append(nums[left])\n",
    "            left = right\n",
    "    expectedNums.append(nums[right-1])\n",
    "    k = len(expectedNums)\n",
    "    return k, expectedNums"
   ]
  },
  {
   "cell_type": "code",
   "execution_count": 23,
   "id": "36cb99f1",
   "metadata": {},
   "outputs": [
    {
     "name": "stdout",
     "output_type": "stream",
     "text": [
      "[0, 1, 2, 3, 4]\n"
     ]
    }
   ],
   "source": [
    "nums = [0,0,1,1,1,2,2,3,3,4] #// Input array\n",
    "expectedNums = [] #// The expected answer with correct length\n",
    "\n",
    "k, expectedNums = removeDuplicates(nums) #// Calls your implementation\n",
    "\n",
    "print(expectedNums)\n",
    "k = len(expectedNums)\n"
   ]
  },
  {
   "cell_type": "code",
   "execution_count": null,
   "id": "34b86e3a",
   "metadata": {},
   "outputs": [],
   "source": [
    "class Solution:\n",
    "    def removeDuplicates(self, nums: List[int]) -> int:\n",
    "        expectedNums = []\n",
    "        a = False\n",
    "        left = 0\n",
    "        right = 1\n",
    "        while right < len(nums):\n",
    "            if nums[left] == nums[right]:\n",
    "                right = right + 1\n",
    "            else:\n",
    "                expectedNums.append(nums[left])\n",
    "                left = right\n",
    "        expectedNums.append(nums[right-1])\n",
    "\n",
    "        for i in range(len(nums)):\n",
    "            if i < len(expectedNums):\n",
    "                nums[i] = expectedNums[i]\n",
    "            if i >= len(expectedNums):\n",
    "                nums[i] = 'x'\n",
    "        k = len(expectedNums)\n",
    "        return k, nums"
   ]
  },
  {
   "cell_type": "code",
   "execution_count": 35,
   "id": "727ac529",
   "metadata": {},
   "outputs": [
    {
     "name": "stdout",
     "output_type": "stream",
     "text": [
      "(5, [0, 1, 2, 3, 4, 'x', 'x', 'x', 'x', 'x'])\n"
     ]
    }
   ],
   "source": [
    "nums = [0,0,1,1,1,2,2,3,3,4]\n",
    "ans = Solution()\n",
    "print(ans.removeDuplicates(nums))"
   ]
  },
  {
   "cell_type": "code",
   "execution_count": 36,
   "id": "ce66c6d2",
   "metadata": {},
   "outputs": [],
   "source": [
    "#ChatGPT solution now\n",
    "class Solution:\n",
    "    def removeDuplicates(self, nums: List[int]) -> int:\n",
    "        if not nums:\n",
    "            return 0\n",
    "\n",
    "        write = 1  # Start from the second element\n",
    "\n",
    "        for read in range(1, len(nums)):\n",
    "            if nums[read] != nums[read - 1]:\n",
    "                nums[write] = nums[read]\n",
    "                write += 1\n",
    "\n",
    "        return write, nums\n"
   ]
  },
  {
   "cell_type": "code",
   "execution_count": 37,
   "id": "7d90c904",
   "metadata": {},
   "outputs": [
    {
     "name": "stdout",
     "output_type": "stream",
     "text": [
      "(5, [0, 1, 2, 3, 4, 2, 2, 3, 3, 4])\n"
     ]
    }
   ],
   "source": [
    "ans_1 = Solution()\n",
    "nums = [0,0,1,1,1,2,2,3,3,4]\n",
    "print(ans_1.removeDuplicates(nums))\n"
   ]
  }
 ],
 "metadata": {
  "kernelspec": {
   "display_name": "Python 3",
   "language": "python",
   "name": "python3"
  },
  "language_info": {
   "codemirror_mode": {
    "name": "ipython",
    "version": 3
   },
   "file_extension": ".py",
   "mimetype": "text/x-python",
   "name": "python",
   "nbconvert_exporter": "python",
   "pygments_lexer": "ipython3",
   "version": "3.12.4"
  }
 },
 "nbformat": 4,
 "nbformat_minor": 5
}
