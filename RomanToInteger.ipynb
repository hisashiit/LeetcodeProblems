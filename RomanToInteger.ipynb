{
 "cells": [
  {
   "cell_type": "code",
   "execution_count": 45,
   "id": "e98f4b91",
   "metadata": {},
   "outputs": [
    {
     "name": "stdout",
     "output_type": "stream",
     "text": [
      "1994\n"
     ]
    }
   ],
   "source": [
    "#Roman to Integer\n",
    "RomanToInteger = {}\n",
    "result = 0\n",
    "for i in range(1,4):\n",
    "    RomanToInteger ['I'*i] = i\n",
    "    RomanToInteger ['V'*i] = i*5\n",
    "    RomanToInteger ['X'*i] = i*10\n",
    "    RomanToInteger ['L'*i] = i*50\n",
    "    RomanToInteger ['C'*i] = i*100\n",
    "    RomanToInteger ['D'*i] = i*500\n",
    "    RomanToInteger ['M'*i] = i*1000\n",
    "s = 'MCMXCIV'\n",
    "for i in range(len(s)):\n",
    "    if i+1 == len(s):\n",
    "        result = result + RomanToInteger[s[i]]\n",
    "        break\n",
    "    if RomanToInteger[s[i]] < RomanToInteger[s[i+1]]:\n",
    "        result = result - RomanToInteger[s[i]]\n",
    "    else:\n",
    "        result = result + RomanToInteger[s[i]]\n",
    "print(result)"
   ]
  },
  {
   "cell_type": "code",
   "execution_count": 46,
   "id": "67e143f1",
   "metadata": {},
   "outputs": [],
   "source": [
    "from typing import List\n",
    "class Solution:\n",
    "    def romanToInt(self, s: str) -> int:\n",
    "        RomanToInteger = {}\n",
    "        result = 0\n",
    "        for i in range(1,4):\n",
    "            RomanToInteger ['I'*i] = i\n",
    "            RomanToInteger ['V'*i] = i*5\n",
    "            RomanToInteger ['X'*i] = i*10\n",
    "            RomanToInteger ['L'*i] = i*50\n",
    "            RomanToInteger ['C'*i] = i*100\n",
    "            RomanToInteger ['D'*i] = i*500\n",
    "            RomanToInteger ['M'*i] = i*1000\n",
    "        for i in range(len(s)):\n",
    "            if i+1 == len(s):\n",
    "                result = result + RomanToInteger[s[i]]\n",
    "                break\n",
    "            if RomanToInteger[s[i]] < RomanToInteger[s[i+1]]:\n",
    "                result = result - RomanToInteger[s[i]]\n",
    "            else:\n",
    "                result = result + RomanToInteger[s[i]]\n",
    "        return result"
   ]
  },
  {
   "cell_type": "code",
   "execution_count": 47,
   "id": "2856059f",
   "metadata": {},
   "outputs": [
    {
     "data": {
      "text/plain": [
       "1994"
      ]
     },
     "execution_count": 47,
     "metadata": {},
     "output_type": "execute_result"
    }
   ],
   "source": [
    "Testing = Solution()\n",
    "Testing.romanToInt(\"MCMXCIV\")"
   ]
  },
  {
   "cell_type": "code",
   "execution_count": null,
   "id": "b2e94765",
   "metadata": {},
   "outputs": [
    {
     "name": "stdout",
     "output_type": "stream",
     "text": [
      "I\n",
      "1\n",
      "<class 'int'>\n",
      "<class 'int'>\n",
      "2\n"
     ]
    }
   ],
   "source": [
    "s = 'LVIII'\n",
    "print(s[2])\n",
    "print(RomanToInteger[s[2]])\n",
    "print(type(RomanToInteger[s[2]]))\n",
    "print(type(4))\n",
    "c = RomanToInteger[s[2]] + RomanToInteger[s[3]]\n",
    "print(c)"
   ]
  }
 ],
 "metadata": {
  "kernelspec": {
   "display_name": "Python 3",
   "language": "python",
   "name": "python3"
  },
  "language_info": {
   "codemirror_mode": {
    "name": "ipython",
    "version": 3
   },
   "file_extension": ".py",
   "mimetype": "text/x-python",
   "name": "python",
   "nbconvert_exporter": "python",
   "pygments_lexer": "ipython3",
   "version": "3.12.4"
  }
 },
 "nbformat": 4,
 "nbformat_minor": 5
}
