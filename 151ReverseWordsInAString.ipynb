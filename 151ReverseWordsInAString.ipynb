{
 "cells": [
  {
   "cell_type": "code",
   "execution_count": 39,
   "id": "050bbe7f",
   "metadata": {},
   "outputs": [
    {
     "name": "stdout",
     "output_type": "stream",
     "text": [
      "world hello\n"
     ]
    }
   ],
   "source": [
    "#input\n",
    "s = '  hello   world  '\n",
    "#print(s)\n",
    "\n",
    "\n",
    "#############\n",
    "#preciso remover \" \" no inicio e final\n",
    "s = s.strip()\n",
    "#print(s)\n",
    "#preciso remover \" \" a mais no meio\n",
    "#aqui ele acha o index dos \" \"\n",
    "list_id = []\n",
    "for i in range(len(s)):\n",
    "    if s[i] == ' ':\n",
    "        list_id.append(i)\n",
    "#print(list_id)\n",
    "k = 0\n",
    "l = 0\n",
    "len_list_id = len(list_id)\n",
    "word = []\n",
    "\n",
    "#aqui ele agrupa word por word\n",
    "for i in range(len_list_id):\n",
    "    #print(i)\n",
    "    l = list_id[i]\n",
    "    word.append(s[k:l])\n",
    "    #print(word)\n",
    "\n",
    "    k = list_id[i] + 1\n",
    "    if i == len_list_id - 1:\n",
    "        word.append(s[k:])\n",
    "        #print(word)\n",
    "\n",
    "word_lopa = word[:]\n",
    "for i in range(len(word_lopa)):\n",
    "    if word_lopa[i] == '':\n",
    "        word.remove('')\n",
    "#print(f\"word_formatado = {word}\")\n",
    "#aqui ele faz o reverso\n",
    "word = word[::-1]\n",
    "result_word = ' '.join(word)\n",
    "print(result_word)"
   ]
  },
  {
   "cell_type": "code",
   "execution_count": 51,
   "id": "413e29ce",
   "metadata": {},
   "outputs": [],
   "source": [
    "class Solution:\n",
    "    def reverseWords(self, s: str) -> str:\n",
    "        #############\n",
    "        #preciso remover \" \" no inicio e final\n",
    "        s = s.strip()\n",
    "        count = 0\n",
    "        #print(s)\n",
    "        #preciso remover \" \" a mais no meio\n",
    "        #aqui ele acha o index dos \" \"\n",
    "        list_id = []\n",
    "        for i in range(len(s)):\n",
    "            if s[i] == ' ':\n",
    "                list_id.append(i)\n",
    "                count = count + 1\n",
    "        if count == 0:\n",
    "            return s\n",
    "        #print(list_id)\n",
    "        k = 0\n",
    "        l = 0\n",
    "        len_list_id = len(list_id)\n",
    "        word = []\n",
    "        #print(word)\n",
    "        #aqui ele agrupa word por word\n",
    "        for i in range(len_list_id):\n",
    "            #print(i)\n",
    "            l = list_id[i]\n",
    "            word.append(s[k:l])\n",
    "            #print(word)\n",
    "\n",
    "            k = list_id[i] + 1\n",
    "            if i == len_list_id - 1:\n",
    "                word.append(s[k:])\n",
    "                #print(word)\n",
    "\n",
    "        word_lopa = word[:]\n",
    "        for i in range(len(word_lopa)):\n",
    "            if word_lopa[i] == '':\n",
    "                word.remove('')\n",
    "        #print(f\"word_formatado = {word}\")\n",
    "        #aqui ele faz o reverso\n",
    "        word = word[::-1]\n",
    "        result_word = ' '.join(word)\n",
    "        return result_word"
   ]
  },
  {
   "cell_type": "code",
   "execution_count": 52,
   "id": "d4c28cf1",
   "metadata": {},
   "outputs": [
    {
     "data": {
      "text/plain": [
       "'EPY2giL'"
      ]
     },
     "execution_count": 52,
     "metadata": {},
     "output_type": "execute_result"
    }
   ],
   "source": [
    "saca = Solution()\n",
    "sa = \"EPY2giL\"\n",
    "saca.reverseWords(sa)"
   ]
  }
 ],
 "metadata": {
  "kernelspec": {
   "display_name": "Python 3",
   "language": "python",
   "name": "python3"
  },
  "language_info": {
   "codemirror_mode": {
    "name": "ipython",
    "version": 3
   },
   "file_extension": ".py",
   "mimetype": "text/x-python",
   "name": "python",
   "nbconvert_exporter": "python",
   "pygments_lexer": "ipython3",
   "version": "3.12.4"
  }
 },
 "nbformat": 4,
 "nbformat_minor": 5
}
