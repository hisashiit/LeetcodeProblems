{
 "cells": [
  {
   "cell_type": "code",
   "execution_count": null,
   "id": "a6420ba3",
   "metadata": {},
   "outputs": [
    {
     "name": "stdout",
     "output_type": "stream",
     "text": [
      "[0, 1, 9, 16, 100]\n"
     ]
    }
   ],
   "source": [
    "#nums = [-4,-1,0,3,10]\n",
    "\n",
    "def troca(a: int, b: int):\n",
    "    return b, a\n",
    "\n",
    "for i in range(len(nums)):\n",
    "    nums[i] = nums[i]*nums[i]\n",
    "\n",
    "new_nums = []*len(nums)\n",
    "right = len(nums)-1\n",
    "left = 0\n",
    "while right >= left:\n",
    "    if nums[left] < nums[right]:\n",
    "        new_nums.append(nums[right])\n",
    "        right = right - 1\n",
    "    elif nums[left] >= nums[right]:\n",
    "        new_nums.append(nums[left])\n",
    "        left = left + 1\n",
    "\n",
    "right = len(nums) - 1\n",
    "left = 0\n",
    "while right >= left:\n",
    "    new_nums[right], new_nums[left] = troca(new_nums[right], new_nums[left])\n",
    "    right = right - 1\n",
    "    left = left + 1\n",
    "print(new_nums)"
   ]
  },
  {
   "cell_type": "code",
   "execution_count": 33,
   "id": "273511c6",
   "metadata": {},
   "outputs": [],
   "source": [
    "from typing import List\n",
    "class Solution:\n",
    "    def sortedSquares(self, nums: List[int]) -> List[int]:\n",
    "        def troca(a: int, b: int):\n",
    "            return b, a\n",
    "\n",
    "        for i in range(len(nums)):\n",
    "            nums[i] = nums[i]*nums[i]\n",
    "\n",
    "        new_nums = []*len(nums)\n",
    "        right = len(nums)-1\n",
    "        left = 0\n",
    "        while right >= left:\n",
    "            if nums[left] < nums[right]:\n",
    "                new_nums.append(nums[right])\n",
    "                right = right - 1\n",
    "            elif nums[left] >= nums[right]:\n",
    "                new_nums.append(nums[left])\n",
    "                left = left + 1\n",
    "\n",
    "        right = len(nums) - 1\n",
    "        left = 0\n",
    "        while right >= left:\n",
    "            new_nums[right], new_nums[left] = troca(new_nums[right], new_nums[left])\n",
    "            right = right - 1\n",
    "            left = left + 1\n",
    "        return new_nums"
   ]
  },
  {
   "cell_type": "code",
   "execution_count": 34,
   "id": "db7b185d",
   "metadata": {},
   "outputs": [
    {
     "name": "stdout",
     "output_type": "stream",
     "text": [
      "[4, 9, 9, 49, 121]\n"
     ]
    }
   ],
   "source": [
    "nums = [-7, -3, 2, 3, 11]\n",
    "ans = Solution()\n",
    "print(ans.sortedSquares(nums))"
   ]
  }
 ],
 "metadata": {
  "kernelspec": {
   "display_name": "Python 3",
   "language": "python",
   "name": "python3"
  },
  "language_info": {
   "codemirror_mode": {
    "name": "ipython",
    "version": 3
   },
   "file_extension": ".py",
   "mimetype": "text/x-python",
   "name": "python",
   "nbconvert_exporter": "python",
   "pygments_lexer": "ipython3",
   "version": "3.12.4"
  }
 },
 "nbformat": 4,
 "nbformat_minor": 5
}
