{
 "cells": [
  {
   "cell_type": "code",
   "execution_count": null,
   "id": "b69db245",
   "metadata": {},
   "outputs": [
    {
     "name": "stdout",
     "output_type": "stream",
     "text": [
      "O numero 1\n",
      "O index 1 é 3\n",
      "O valor do slice_num [1, 12, 2, 500]\n",
      "[1, 2, 7]\n",
      "[3, 1, 0]\n",
      "[499, 548, 0]\n",
      "548\n"
     ]
    }
   ],
   "source": [
    "nums = [7, 2, 550, 1, 12, 2, 500]\n",
    "\n",
    "minimum = []\n",
    "minimum_index = []\n",
    "profit = []\n",
    "n = len(nums)\n",
    "id = 3\n",
    "\n",
    "#pegamos o minimo\n",
    "a = min(nums)\n",
    "minimum.append(a)\n",
    "\n",
    "#pega o index do minimo\n",
    "min_index = nums.index(a)\n",
    "minimum_index.append(min_index)\n",
    "print(f\"O numero {a}\")\n",
    "print(f\"O index {a} é {min_index}\")\n",
    "\n",
    "#pega o maximum do slice do minimo\n",
    "slice_num = nums[min_index:n]\n",
    "print(f\"O valor do slice_num {slice_num}\")\n",
    "maximum = max(slice_num)\n",
    "profit.append(maximum-a)\n",
    "\n",
    "id = min_index\n",
    "while id != 0:    \n",
    "    #pegamos o minimo\n",
    "    slice_num = nums[0:min_index]\n",
    "    a = min(slice_num)\n",
    "    minimum.append(a)\n",
    "\n",
    "    #pega o index do minimo\n",
    "    min_index = nums.index(a)\n",
    "    minimum_index.append(min_index)\n",
    "\n",
    "    #pega o max do slice do minimo\n",
    "    maximum = max(slice_num)\n",
    "    profit.append(maximum-a)\n",
    "\n",
    "    id = min_index\n",
    "\n",
    "profit_max = max(profit)\n",
    "print(profit_max)"
   ]
  },
  {
   "cell_type": "code",
   "execution_count": 46,
   "id": "837f787a",
   "metadata": {},
   "outputs": [],
   "source": [
    "from typing import List\n",
    "class Solution:\n",
    "    def maxProfit(self, prices: List[int]) -> int:\n",
    "        minimum = []\n",
    "        minimum_index = []\n",
    "        profit = []\n",
    "        n = len(prices)\n",
    "        id = 3\n",
    "\n",
    "        #pegamos o minimo\n",
    "        a = min(prices)\n",
    "        minimum.append(a)\n",
    "\n",
    "        #pega o index do minimo\n",
    "        min_index = prices.index(a)\n",
    "        minimum_index.append(min_index)\n",
    "\n",
    "        #pega o maximum do slice do minimo\n",
    "        slice_num = prices[min_index:n]\n",
    "        maximum = max(slice_num)\n",
    "        profit.append(maximum-a)\n",
    "\n",
    "        id = min_index\n",
    "        i = 1\n",
    "        while id != 0:    \n",
    "            #pegamos o minimo\n",
    "            slice_num = prices[0:min_index]\n",
    "            a = min(slice_num)\n",
    "            minimum.append(a)\n",
    "\n",
    "            #pega o index do minimo\n",
    "            min_index = prices.index(a)\n",
    "            minimum_index.append(min_index)\n",
    "\n",
    "            #pega o max do slice do minimo\n",
    "            slice_num = prices[min_index:minimum_index[i-1]]\n",
    "            maximum = max(slice_num)\n",
    "            print(f\"Slice_num: {slice_num}\")\n",
    "            profit.append(maximum-a)\n",
    "            print(f\"Maximum = {maximum}\")\n",
    "            id = min_index\n",
    "            i = i + 1\n",
    "\n",
    "        profit_max = max(profit)\n",
    "        print(minimum)\n",
    "        print(maximum)\n",
    "        print(f\"Profit = {profit}\")\n",
    "        return profit_max"
   ]
  },
  {
   "cell_type": "code",
   "execution_count": 47,
   "id": "73710c3b",
   "metadata": {},
   "outputs": [
    {
     "name": "stdout",
     "output_type": "stream",
     "text": [
      "Slice_num: [3]\n",
      "Maximum = 3\n",
      "Slice_num: [4]\n",
      "Maximum = 4\n",
      "Slice_num: [6]\n",
      "Maximum = 6\n",
      "Slice_num: [7]\n",
      "Maximum = 7\n",
      "[1, 3, 4, 6, 7]\n",
      "7\n",
      "Profit = [0, 0, 0, 0, 0]\n",
      "0\n"
     ]
    }
   ],
   "source": [
    "ans = Solution()\n",
    "nums = [7,6,4,3,1]\n",
    "print(ans.maxProfit(nums))"
   ]
  }
 ],
 "metadata": {
  "kernelspec": {
   "display_name": "Python 3",
   "language": "python",
   "name": "python3"
  },
  "language_info": {
   "codemirror_mode": {
    "name": "ipython",
    "version": 3
   },
   "file_extension": ".py",
   "mimetype": "text/x-python",
   "name": "python",
   "nbconvert_exporter": "python",
   "pygments_lexer": "ipython3",
   "version": "3.12.4"
  }
 },
 "nbformat": 4,
 "nbformat_minor": 5
}
