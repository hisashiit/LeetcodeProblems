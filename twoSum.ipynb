{
 "cells": [
  {
   "cell_type": "code",
   "execution_count": null,
   "id": "a8cf43bc",
   "metadata": {},
   "outputs": [
    {
     "name": "stdout",
     "output_type": "stream",
     "text": [
      "18\n",
      "22\n",
      "14\n",
      "9\n",
      "Achamos o target\n",
      "26\n",
      "18\n",
      "13\n",
      "22\n",
      "17\n",
      "9\n",
      "Achamos o target\n",
      "[3, 4]\n"
     ]
    }
   ],
   "source": [
    "#Two Sum\n",
    "nums = [7,11,15,7,2]\n",
    "target = 9\n",
    "output = []\n",
    "for i in range(len(nums)):\n",
    "    for j in range(i+1, len(nums)):\n",
    "        twosum = nums[i] + nums[j]\n",
    "        if twosum == target:\n",
    "            b = [i, j]\n",
    "\n",
    "\n",
    "print(b)"
   ]
  },
  {
   "cell_type": "code",
   "execution_count": 14,
   "id": "fb9b40e6",
   "metadata": {},
   "outputs": [
    {
     "name": "stdout",
     "output_type": "stream",
     "text": [
      "3\n",
      "4\n",
      "5\n",
      "6\n"
     ]
    }
   ],
   "source": [
    "banana = [1,2,3,4,5,6,7]\n",
    "for j in range(i+1, len(banana)):\n",
    "    print(j)"
   ]
  },
  {
   "cell_type": "code",
   "execution_count": 7,
   "id": "e8609d7d",
   "metadata": {},
   "outputs": [
    {
     "data": {
      "text/plain": [
       "3"
      ]
     },
     "execution_count": 7,
     "metadata": {},
     "output_type": "execute_result"
    }
   ],
   "source": [
    "len(nums)"
   ]
  },
  {
   "cell_type": "code",
   "execution_count": 22,
   "id": "4a77a2f4",
   "metadata": {},
   "outputs": [],
   "source": [
    "from typing import List\n",
    "class Solution:\n",
    "    def twoSum(self, nums: List[int], target: int) -> List[int]:\n",
    "        for i in range(len(nums)):\n",
    "            for j in range(i+1, len(nums)):\n",
    "                ans = nums[i] + nums[j]\n",
    "                if ans == target:\n",
    "                    b = [i, j]\n",
    "        return b"
   ]
  },
  {
   "cell_type": "code",
   "execution_count": 24,
   "id": "ac9d3d44",
   "metadata": {},
   "outputs": [
    {
     "data": {
      "text/plain": [
       "[0, 1]"
      ]
     },
     "execution_count": 24,
     "metadata": {},
     "output_type": "execute_result"
    }
   ],
   "source": [
    "try_1 = Solution()\n",
    "nums = [2,7,11,15]\n",
    "target = 9\n",
    "try_1.twoSum(nums, target)"
   ]
  }
 ],
 "metadata": {
  "kernelspec": {
   "display_name": "Python 3",
   "language": "python",
   "name": "python3"
  },
  "language_info": {
   "codemirror_mode": {
    "name": "ipython",
    "version": 3
   },
   "file_extension": ".py",
   "mimetype": "text/x-python",
   "name": "python",
   "nbconvert_exporter": "python",
   "pygments_lexer": "ipython3",
   "version": "3.12.4"
  }
 },
 "nbformat": 4,
 "nbformat_minor": 5
}
