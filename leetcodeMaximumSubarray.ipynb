{
 "cells": [
  {
   "cell_type": "code",
   "execution_count": null,
   "id": "f01d4f02",
   "metadata": {},
   "outputs": [
    {
     "ename": "TypeError",
     "evalue": "'int' object is not iterable",
     "output_type": "error",
     "traceback": [
      "\u001b[1;31m---------------------------------------------------------------------------\u001b[0m",
      "\u001b[1;31mTypeError\u001b[0m                                 Traceback (most recent call last)",
      "Cell \u001b[1;32mIn[6], line 9\u001b[0m\n\u001b[0;32m      7\u001b[0m subarray1 \u001b[38;5;241m=\u001b[39m array[i]\n\u001b[0;32m      8\u001b[0m \u001b[38;5;28;01mfor\u001b[39;00m j \u001b[38;5;129;01min\u001b[39;00m \u001b[38;5;28mrange\u001b[39m(\u001b[38;5;28mlen\u001b[39m(array)):\n\u001b[1;32m----> 9\u001b[0m     max1 \u001b[38;5;241m=\u001b[39m \u001b[38;5;28;43msum\u001b[39;49m\u001b[43m(\u001b[49m\u001b[43msubarray1\u001b[49m\u001b[43m)\u001b[49m\n\u001b[0;32m     10\u001b[0m     \u001b[38;5;28;01mif\u001b[39;00m max1 \u001b[38;5;241m>\u001b[39m max2:\n\u001b[0;32m     11\u001b[0m         max2 \u001b[38;5;241m=\u001b[39m max1\n",
      "\u001b[1;31mTypeError\u001b[0m: 'int' object is not iterable"
     ]
    }
   ],
   "source": [
    "array = [-2,1,-3,4,-1,2,1,-5,4]\n",
    "subarray1 = []\n",
    "subarray2 = []\n",
    "max1 = 0\n",
    "max2 = 0\n",
    "for i in range(len(array)):\n",
    "    subarray1 = array[i:j]\n",
    "    for j in range(len(array)):\n",
    "        max1 = sum(subarray1)\n",
    "        if max1 > max2:\n",
    "            max2 = max1\n",
    "            subarray2 = subarray1 \n",
    "\n",
    "print(subarray2)\n",
    "print(max2)"
   ]
  },
  {
   "cell_type": "code",
   "execution_count": 10,
   "id": "eb89482e",
   "metadata": {},
   "outputs": [
    {
     "name": "stdout",
     "output_type": "stream",
     "text": [
      "[1, 2]\n"
     ]
    }
   ],
   "source": [
    "original = [1, 2, 3]\n",
    "copy = original[:2]\n",
    "print(copy)"
   ]
  },
  {
   "cell_type": "code",
   "execution_count": 22,
   "id": "270fe43d",
   "metadata": {},
   "outputs": [
    {
     "name": "stdout",
     "output_type": "stream",
     "text": [
      "[-2, 1, -3]\n",
      "[1, -3, 4]\n",
      "[-3, 4, -1]\n",
      "[4, -1, 2]\n",
      "[-1, 2, 1]\n",
      "[2, 1, -5]\n",
      "[1, -5, 4]\n"
     ]
    }
   ],
   "source": [
    "array = [-2,1,-3,4,-1,2,1,-5,4]\n",
    "subarray1 = []\n",
    "subarray2 = []\n",
    "max1 = 0\n",
    "max2 = 0\n",
    "k = 0\n",
    "m = 0\n",
    "for i in range(len(array)):\n",
    "    m = m + 1\n",
    "    subarray1 = array[i:i+1]\n",
    "    subarray2 = array[i:i+2]\n",
    "    subarray3 = array[i:i+3]\n",
    "    if len(subarray2) != 2:\n",
    "        continue\n",
    "    if len(subarray3) != 3:\n",
    "        continue\n",
    "    #print(subarray1)\n",
    "    #print(subarray2)\n",
    "    print(subarray3)"
   ]
  },
  {
   "cell_type": "code",
   "execution_count": 52,
   "id": "5b7bbe3e",
   "metadata": {},
   "outputs": [
    {
     "name": "stdout",
     "output_type": "stream",
     "text": [
      "[-2]\n",
      "[-2, 1]\n",
      "[-2, 1, -3]\n",
      "[-2, 1, -3, 4]\n",
      "[-2, 1, -3, 4, -1]\n",
      "[-2, 1, -3, 4, -1, 2]\n",
      "[-2, 1, -3, 4, -1, 2, 1]\n",
      "[-2, 1, -3, 4, -1, 2, 1, -5]\n",
      "[-2, 1, -3, 4, -1, 2, 1, -5, 4]\n",
      "[1]\n",
      "[1, -3]\n",
      "[1, -3, 4]\n",
      "[1, -3, 4, -1]\n",
      "[1, -3, 4, -1, 2]\n",
      "[1, -3, 4, -1, 2, 1]\n",
      "[1, -3, 4, -1, 2, 1, -5]\n",
      "[1, -3, 4, -1, 2, 1, -5, 4]\n",
      "[-3]\n",
      "[-3, 4]\n",
      "[-3, 4, -1]\n",
      "[-3, 4, -1, 2]\n",
      "[-3, 4, -1, 2, 1]\n",
      "[-3, 4, -1, 2, 1, -5]\n",
      "[-3, 4, -1, 2, 1, -5, 4]\n",
      "[4]\n",
      "[4, -1]\n",
      "[4, -1, 2]\n",
      "[4, -1, 2, 1]\n",
      "[4, -1, 2, 1, -5]\n",
      "[4, -1, 2, 1, -5, 4]\n",
      "[-1]\n",
      "[-1, 2]\n",
      "[-1, 2, 1]\n",
      "[-1, 2, 1, -5]\n",
      "[-1, 2, 1, -5, 4]\n",
      "[2]\n",
      "[2, 1]\n",
      "[2, 1, -5]\n",
      "[2, 1, -5, 4]\n",
      "[1]\n",
      "[1, -5]\n",
      "[1, -5, 4]\n",
      "[-5]\n",
      "[-5, 4]\n",
      "[4]\n",
      "[4, -1, 2, 1]\n"
     ]
    }
   ],
   "source": [
    "array = [-2,1,-3,4,-1,2,1,-5,4]\n",
    "subarray1 = []\n",
    "subarray2 = []\n",
    "subarraymax = []\n",
    "max1 = 0\n",
    "max2 = 0\n",
    "k = 0\n",
    "m = 0\n",
    "alerta = 0\n",
    "for i in range(len(array)):\n",
    "    for j in range(len(array)):\n",
    "        subarray1 = array[i:i+j+1]\n",
    "        subarray2 = array[i:i+j+2]\n",
    "        print(subarray1)\n",
    "        max1 = sum(subarray1)\n",
    "        if max1 > max2:\n",
    "            max2 = max1\n",
    "            subarraymax = subarray1\n",
    "        if subarray2 == subarray1:\n",
    "            break\n",
    "        if len(subarray1) < 1:\n",
    "            continue\n",
    "\n",
    "print(subarraymax)"
   ]
  },
  {
   "cell_type": "code",
   "execution_count": 62,
   "id": "7db4181f",
   "metadata": {},
   "outputs": [
    {
     "name": "stdout",
     "output_type": "stream",
     "text": [
      "[78, 56, 10, -8, 26, -18, 47]\n",
      "191\n"
     ]
    }
   ],
   "source": [
    "array = [-64,78,56,10,-8,26,-18,47]\n",
    "subarray1 = []\n",
    "subarray2 = []\n",
    "subarraymax = []\n",
    "max1 = 0\n",
    "max2 = -9992\n",
    "k = 0\n",
    "m = 0\n",
    "alerta = 0\n",
    "for i in range(len(array)):\n",
    "    for j in range(len(array)):\n",
    "        subarray1 = array[i:i+j+1]\n",
    "        subarray2 = array[i:i+j+2]\n",
    "        max1 = sum(subarray1)\n",
    "        if max1 > max2:\n",
    "            max2 = max1\n",
    "            subarraymax = subarray1\n",
    "        if subarray2 == subarray1:\n",
    "            break\n",
    "        if len(subarray1) < 1:\n",
    "            continue\n",
    "\n",
    "print(subarraymax)\n",
    "print(max2)"
   ]
  },
  {
   "cell_type": "code",
   "execution_count": 88,
   "id": "ea4d1c27",
   "metadata": {},
   "outputs": [],
   "source": [
    "from typing import List\n",
    "\n",
    "class Solution:\n",
    "    def maxSubArray(self, nums: List[int]) -> int:\n",
    "        array = nums\n",
    "        subarray1 = []\n",
    "        subarray2 = []\n",
    "        subarraymax = []\n",
    "        max1 = 0\n",
    "        max2 = float('-inf')\n",
    "        for i in range(len(array)):\n",
    "            for j in range(len(array)):\n",
    "                subarray1 = array[i:i+j+1]\n",
    "                subarray2 = array[i:i+j+2]\n",
    "                max1 = sum(subarray1)\n",
    "                if max1 > max2:\n",
    "                    max2 = max1\n",
    "                    subarraymax = subarray1\n",
    "                if subarray2 == subarray1:\n",
    "                    break\n",
    "                if len(subarray1) < 1:\n",
    "                    continue\n",
    "\n",
    "        print(subarraymax)            \n",
    "        return max2"
   ]
  },
  {
   "cell_type": "code",
   "execution_count": null,
   "id": "b332c058",
   "metadata": {},
   "outputs": [],
   "source": [
    "a = float('-inf')\n",
    "print(f\"The value of '{a}' and his type '{type(a)}'\")"
   ]
  },
  {
   "cell_type": "code",
   "execution_count": 89,
   "id": "2e0cc457",
   "metadata": {},
   "outputs": [
    {
     "name": "stdout",
     "output_type": "stream",
     "text": [
      "[4, -1, 2, 1]\n",
      "6\n"
     ]
    }
   ],
   "source": [
    "sol = Solution()\n",
    "result = sol.maxSubArray([-2,1,-3,4,-1,2,1,-5,4])\n",
    "print(result)\n"
   ]
  },
  {
   "cell_type": "code",
   "execution_count": 73,
   "id": "fb0e2052",
   "metadata": {},
   "outputs": [
    {
     "name": "stdout",
     "output_type": "stream",
     "text": [
      "70\n"
     ]
    }
   ],
   "source": [
    "class Addition:\n",
    "    def add(self, a: int, b: int) -> int:\n",
    "        return a + b\n",
    "\n",
    "newAdd = Addition()\n",
    "print(newAdd.add(20, 50))"
   ]
  },
  {
   "cell_type": "code",
   "execution_count": 85,
   "id": "a54a418e",
   "metadata": {},
   "outputs": [],
   "source": [
    "class Calculator:\n",
    "    def __init__(self):\n",
    "        self.total = 0\n",
    "\n",
    "    def add(self, number: int):\n",
    "        self.total += number\n",
    "        return self.total\n",
    "    #__str__(self)\tControls how your object looks when printed\n",
    "    def __str__(self):\n",
    "        return f\"Current total: {self.total}\"\n",
    "    def minus (self, number: int):\n",
    "        self.total = self.total - number\n",
    "        return self.total"
   ]
  },
  {
   "cell_type": "code",
   "execution_count": 86,
   "id": "1b0850e8",
   "metadata": {},
   "outputs": [
    {
     "name": "stdout",
     "output_type": "stream",
     "text": [
      "Current total: 25\n"
     ]
    }
   ],
   "source": [
    "calcula_1 = Calculator()\n",
    "calcula_1.add(5)\n",
    "calcula_1.add(15)\n",
    "calcula_1.add(20)\n",
    "calcula_1.minus(15)\n",
    "print(calcula_1)"
   ]
  }
 ],
 "metadata": {
  "kernelspec": {
   "display_name": "Python 3",
   "language": "python",
   "name": "python3"
  },
  "language_info": {
   "codemirror_mode": {
    "name": "ipython",
    "version": 3
   },
   "file_extension": ".py",
   "mimetype": "text/x-python",
   "name": "python",
   "nbconvert_exporter": "python",
   "pygments_lexer": "ipython3",
   "version": "3.12.4"
  }
 },
 "nbformat": 4,
 "nbformat_minor": 5
}
