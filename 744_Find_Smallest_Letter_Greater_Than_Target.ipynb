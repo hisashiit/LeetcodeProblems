{
 "cells": [
  {
   "cell_type": "code",
   "execution_count": null,
   "id": "a98cff00",
   "metadata": {},
   "outputs": [],
   "source": [
    "#input\n",
    "letters = [\"c\",\"f\",\"j\"]\n",
    "target = \"c\"\n",
    "\n",
    "listAlphabetic = ['a', 'b', 'c', 'd', 'e', 'f', 'g', 'h', 'i', 'j', 'k', 'l', 'm', 'n', \"o\", \"p\", \"q\", \"r\", \"s\", \"t\", \"u\", \"v\", \"w\", \"x\", \"y\", \"z\"]\n"
   ]
  },
  {
   "cell_type": "code",
   "execution_count": 43,
   "id": "0dd7db73",
   "metadata": {},
   "outputs": [],
   "source": [
    "#35.Search Insert Position\n",
    "\n",
    "from typing import List\n",
    "class Solution:\n",
    "    def nextGreatestLetter(self, letters: List[str], target: str) -> str:\n",
    "        left = 0\n",
    "        right = len(letters) - 1\n",
    "        while target <= letters[left] and left <= right:\n",
    "            index_mid =(right + left)// 2 \n",
    "            #print(index_mid)\n",
    "            if letters[index_mid] == target:\n",
    "                if index_mid + 1 == len(letters):\n",
    "                    return letters[0]\n",
    "                return letters[index_mid+1]\n",
    "            elif letters[index_mid] < target:\n",
    "                left = index_mid + 1\n",
    "                #print(index_mid)\n",
    "            elif letters[index_mid] > target:\n",
    "                right = index_mid - 1\n",
    "                #print(index_mid)     \n",
    "        if left > len(letters)-1:\n",
    "            return letters[0]\n",
    "        return letters[left]"
   ]
  },
  {
   "cell_type": "code",
   "execution_count": 44,
   "id": "01bffe32",
   "metadata": {},
   "outputs": [
    {
     "name": "stdout",
     "output_type": "stream",
     "text": [
      "f\n"
     ]
    }
   ],
   "source": [
    "ans = Solution()\n",
    "letters = [\"c\",\"f\",\"j\"]\n",
    "target = \"c\"\n",
    "print(ans.nextGreatestLetter(letters, target))"
   ]
  }
 ],
 "metadata": {
  "kernelspec": {
   "display_name": "Python 3",
   "language": "python",
   "name": "python3"
  },
  "language_info": {
   "codemirror_mode": {
    "name": "ipython",
    "version": 3
   },
   "file_extension": ".py",
   "mimetype": "text/x-python",
   "name": "python",
   "nbconvert_exporter": "python",
   "pygments_lexer": "ipython3",
   "version": "3.12.4"
  }
 },
 "nbformat": 4,
 "nbformat_minor": 5
}
