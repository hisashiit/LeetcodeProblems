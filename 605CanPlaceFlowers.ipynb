{
 "cells": [
  {
   "cell_type": "code",
   "execution_count": null,
   "id": "dc3011ce",
   "metadata": {},
   "outputs": [],
   "source": [
    "#605. Can Place Flowers\n",
    "#inputs\n",
    "flowerbed = [1,0,0,0,1]\n",
    "n = 1\n",
    "#\n",
    "flowerCanPut = 0\n",
    "for i in range(len(flowerbed)-1):\n",
    "    if i == 0 and flowerbed[1] == 0 and flowerbed[0] == 0:\n",
    "        flowerCanPut = flowerCanPut + 1\n",
    "    if i > 0 and i < len(flowerbed) - 1:\n",
    "        if flowerbed[i] == 0 and flowerbed[i-1] == 0 and flowerbed[i+1] == 0:\n",
    "            flowerCanPut = flowerCanPut + 1\n",
    "    if i == len(flowerbed) - 1 and flowerbed[i-1] == 0:\n",
    "        flowerCanPut = flowerCanPut + 1\n",
    "if flowerCanPut >= n:\n",
    "    result = True\n",
    "else:\n",
    "    result = False\n",
    "print(result)\n"
   ]
  },
  {
   "cell_type": "code",
   "execution_count": 22,
   "id": "074f5cf5",
   "metadata": {},
   "outputs": [],
   "source": [
    "from typing import List\n",
    "class Solution:\n",
    "    def canPlaceFlowers(self, flowerbed: List[int], n: int) -> bool:\n",
    "        flowerCanPut = 0\n",
    "        if len(flowerbed) == 1:\n",
    "            if flowerbed[0] == 0:\n",
    "                flowerCanPut = 1\n",
    "                return flowerCanPut >= n\n",
    "            else:\n",
    "                flowerCanPut = 0\n",
    "                return flowerCanPut >= n\n",
    "        \n",
    "        for i in range(len(flowerbed)):\n",
    "            if i == 0 and flowerbed[1] == 0 and flowerbed[0] == 0:\n",
    "                flowerCanPut = flowerCanPut + 1\n",
    "                flowerbed[0] = 1\n",
    "            if i > 0 and i < len(flowerbed) - 1:\n",
    "                if flowerbed[i] == 0 and flowerbed[i-1] == 0 and flowerbed[i+1] == 0:\n",
    "                    flowerCanPut = flowerCanPut + 1\n",
    "                    flowerbed[i] = 1\n",
    "            if i == len(flowerbed)-1 and flowerbed[i-1] == 0 and flowerbed[i] == 0:\n",
    "                flowerCanPut = flowerCanPut + 1\n",
    "                flowerbed[i] = 1\n",
    "        if flowerCanPut >= n:\n",
    "            print(flowerbed)\n",
    "            print(flowerCanPut)\n",
    "            return True\n",
    "        else:\n",
    "            return False\n",
    "        "
   ]
  },
  {
   "cell_type": "code",
   "execution_count": 24,
   "id": "22c238b6",
   "metadata": {},
   "outputs": [
    {
     "name": "stdout",
     "output_type": "stream",
     "text": [
      "False\n"
     ]
    }
   ],
   "source": [
    "flowerbed = [1]\n",
    "n = 1\n",
    "a = Solution()\n",
    "print(a.canPlaceFlowers(flowerbed, n))"
   ]
  }
 ],
 "metadata": {
  "kernelspec": {
   "display_name": "Python 3",
   "language": "python",
   "name": "python3"
  },
  "language_info": {
   "codemirror_mode": {
    "name": "ipython",
    "version": 3
   },
   "file_extension": ".py",
   "mimetype": "text/x-python",
   "name": "python",
   "nbconvert_exporter": "python",
   "pygments_lexer": "ipython3",
   "version": "3.12.4"
  }
 },
 "nbformat": 4,
 "nbformat_minor": 5
}
