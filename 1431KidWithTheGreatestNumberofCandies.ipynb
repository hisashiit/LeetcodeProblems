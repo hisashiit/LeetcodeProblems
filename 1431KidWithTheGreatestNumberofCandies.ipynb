{
 "cells": [
  {
   "cell_type": "code",
   "execution_count": null,
   "id": "fef77745",
   "metadata": {},
   "outputs": [
    {
     "name": "stdout",
     "output_type": "stream",
     "text": [
      "5\n",
      "[True, False, False, False, False]\n"
     ]
    }
   ],
   "source": [
    "#inputs\n",
    "candies = [4,2,1,1,2]\n",
    "extraCandies = 1\n",
    "#\n",
    "\n",
    "candies_max = max(candies)\n",
    "candies_boolean = [0]*len(candies)\n",
    "candies_loops = candies[:]\n",
    "print(len(candies))\n",
    "for i in range(len(candies)):\n",
    "    if candies[i] + extraCandies >= candies_max:\n",
    "        candies_boolean[i] = True\n",
    "    else:\n",
    "        candies_boolean[i] = False\n",
    "print(candies_boolean)\n"
   ]
  },
  {
   "cell_type": "code",
   "execution_count": null,
   "id": "6d742efd",
   "metadata": {},
   "outputs": [],
   "source": [
    "from typing import List\n",
    "class Solution:\n",
    "    def kidsWithCandies(self, candies: List[int], extraCandies: int) -> List[bool]:\n",
    "        candies_max = max(candies)\n",
    "        candies_boolean = [0]*len(candies)\n",
    "        #print(len(candies))\n",
    "        for i in range(len(candies)):\n",
    "            if candies[i] + extraCandies >= candies_max:\n",
    "                candies_boolean[i] = True\n",
    "            else:\n",
    "                candies_boolean[i] = False\n",
    "        return candies_boolean"
   ]
  },
  {
   "cell_type": "code",
   "execution_count": 12,
   "id": "38869106",
   "metadata": {},
   "outputs": [
    {
     "name": "stdout",
     "output_type": "stream",
     "text": [
      "5\n"
     ]
    },
    {
     "data": {
      "text/plain": [
       "[True, False, False, False, False]"
      ]
     },
     "execution_count": 12,
     "metadata": {},
     "output_type": "execute_result"
    }
   ],
   "source": [
    "candies = [4,2,1,1,2]\n",
    "extraCandies = 1\n",
    "a = Solution()\n",
    "a.kidsWithCandies(candies, extraCandies)"
   ]
  }
 ],
 "metadata": {
  "kernelspec": {
   "display_name": "Python 3",
   "language": "python",
   "name": "python3"
  },
  "language_info": {
   "codemirror_mode": {
    "name": "ipython",
    "version": 3
   },
   "file_extension": ".py",
   "mimetype": "text/x-python",
   "name": "python",
   "nbconvert_exporter": "python",
   "pygments_lexer": "ipython3",
   "version": "3.12.4"
  }
 },
 "nbformat": 4,
 "nbformat_minor": 5
}
