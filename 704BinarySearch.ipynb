{
 "cells": [
  {
   "cell_type": "code",
   "execution_count": null,
   "id": "cb8863f4",
   "metadata": {},
   "outputs": [
    {
     "name": "stdout",
     "output_type": "stream",
     "text": [
      "4\n",
      "nums[index_mid] = 9\n"
     ]
    }
   ],
   "source": [
    "#704. Binary Search - Level: Easy\n",
    "#inputs\n",
    "nums = [-1, 0, 3, 5, 9, 12]\n",
    "target = 9\n",
    "#inputs\n",
    "\n",
    "index_mid = int((len(nums)-1)/2) \n",
    "\n",
    "for i in range(len(nums)):\n",
    "    if nums[index_mid] == target:\n",
    "        break\n",
    "    if nums[index_mid] < target:\n",
    "        index_mid = int((index_mid+len(nums))/2)\n",
    "        print(index_mid)\n",
    "    elif nums[index_mid] > target:\n",
    "        index_mid = int(index_mid/2)\n",
    "        print(index_mid)\n",
    "\n",
    "print(f\"nums[index_mid] = {nums[index_mid]}\")"
   ]
  },
  {
   "cell_type": "code",
   "execution_count": 29,
   "id": "f7b4b377",
   "metadata": {},
   "outputs": [],
   "source": [
    "from typing import List\n",
    "class Solution:\n",
    "    def search(self, nums: List[int], target: int) -> int:\n",
    "        left = 0\n",
    "        right = len(nums) - 1\n",
    "        while left <= right:\n",
    "            index_mid =(right + left)// 2 \n",
    "            #print(index_mid)\n",
    "            if nums[index_mid] == target:\n",
    "                return index_mid\n",
    "            elif nums[index_mid] < target:\n",
    "                left = index_mid + 1\n",
    "                #print(index_mid)\n",
    "            elif nums[index_mid] > target:\n",
    "                right = index_mid - 1\n",
    "                #print(index_mid)     \n",
    "        return -1\n",
    "\n",
    "        "
   ]
  },
  {
   "cell_type": "code",
   "execution_count": 30,
   "id": "05c8d90a",
   "metadata": {},
   "outputs": [
    {
     "name": "stdout",
     "output_type": "stream",
     "text": [
      "len(nums) = 2\n",
      "1\n"
     ]
    }
   ],
   "source": [
    "ans = Solution()\n",
    "nums = [2, 5]\n",
    "target = 5\n",
    "print(f\"len(nums) = {len(nums)}\")\n",
    "print(ans.search(nums, target))"
   ]
  },
  {
   "cell_type": "code",
   "execution_count": 28,
   "id": "83bccbf7",
   "metadata": {},
   "outputs": [
    {
     "data": {
      "text/plain": [
       "3"
      ]
     },
     "execution_count": 28,
     "metadata": {},
     "output_type": "execute_result"
    }
   ],
   "source": [
    "7//2"
   ]
  },
  {
   "cell_type": "code",
   "execution_count": 13,
   "id": "39514ac3",
   "metadata": {},
   "outputs": [
    {
     "data": {
      "text/plain": [
       "3"
      ]
     },
     "execution_count": 13,
     "metadata": {},
     "output_type": "execute_result"
    }
   ],
   "source": [
    "int(3.5)"
   ]
  }
 ],
 "metadata": {
  "kernelspec": {
   "display_name": "Python 3",
   "language": "python",
   "name": "python3"
  },
  "language_info": {
   "codemirror_mode": {
    "name": "ipython",
    "version": 3
   },
   "file_extension": ".py",
   "mimetype": "text/x-python",
   "name": "python",
   "nbconvert_exporter": "python",
   "pygments_lexer": "ipython3",
   "version": "3.12.4"
  }
 },
 "nbformat": 4,
 "nbformat_minor": 5
}
