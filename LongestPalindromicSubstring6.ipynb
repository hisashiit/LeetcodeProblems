{
 "cells": [
  {
   "cell_type": "code",
   "execution_count": 1,
   "id": "d7cf5e83",
   "metadata": {},
   "outputs": [],
   "source": [
    "class Solution:\n",
    "    def longestPalindrome(self, s: str) -> str:\n",
    "        def isPalindrome(a: str):\n",
    "            return a == a[::-1]\n",
    "        #s = \"ajjjasjaajsjaaaaaaa\"\n",
    "        array = []\n",
    "        lenarray = 0\n",
    "        bestarray = []\n",
    "        lenbestarray = 0\n",
    "        for i in range(0,len(s)):\n",
    "            #print(s[0:i:1])\n",
    "            for j in range(0,len(s)+1):\n",
    "                if isPalindrome(s[i:j]):\n",
    "                    #print(\"executing if\")\n",
    "                    array = s[i:j]\n",
    "                    lenarray = len(array)\n",
    "                    if lenarray >= lenbestarray:\n",
    "                        bestarray = array[:]\n",
    "                        lenbestarray = lenarray\n",
    "        return bestarray"
   ]
  },
  {
   "cell_type": "code",
   "execution_count": 2,
   "id": "927259d3",
   "metadata": {},
   "outputs": [
    {
     "data": {
      "text/plain": [
       "'a'"
      ]
     },
     "execution_count": 2,
     "metadata": {},
     "output_type": "execute_result"
    }
   ],
   "source": [
    "doing = Solution()\n",
    "s = \"a\"\n",
    "doing.longestPalindrome(s)"
   ]
  },
  {
   "cell_type": "code",
   "execution_count": 3,
   "id": "8df62dbb",
   "metadata": {},
   "outputs": [
    {
     "data": {
      "text/plain": [
       "1"
      ]
     },
     "execution_count": 3,
     "metadata": {},
     "output_type": "execute_result"
    }
   ],
   "source": [
    "len(s)"
   ]
  },
  {
   "cell_type": "code",
   "execution_count": 4,
   "id": "5c260fc4",
   "metadata": {},
   "outputs": [],
   "source": [
    "class Solution:\n",
    "    def longestPalindrome(self, s: str) -> str:\n",
    "        def expand(left: int, right: int):\n",
    "            while left >= 0 and right < len(s) and s[left] == s[right]:\n",
    "                left = left - 1\n",
    "                right = right + 1\n",
    "            return s[left+1:right]\n",
    "        #s = \"ajjjasjaajsjaaaaaaa\"\n",
    "        lenarray = 0\n",
    "        bestpalindrom = ''\n",
    "        lenbestarray = 0\n",
    "        right = 1\n",
    "        left = 0\n",
    "        for i in range(0,len(s)):\n",
    "            if len(s)%2 == 0:\n",
    "                right = 1\n",
    "                left = 0\n",
    "                palindrom = expand(left+i,right+i)\n",
    "                if len(palindrom) > len(bestpalindrom):\n",
    "                    bestpalindrom = palindrom\n",
    "            elif len(s)%2 != 0:\n",
    "                right = 3\n",
    "                left = 0\n",
    "                palindrom = expand(left+i,right+i)\n",
    "                if len(palindrom) > len(bestpalindrom):\n",
    "                    bestpalindrom = palindrom\n",
    "        if len(s) == 1:\n",
    "            bestpalindrom = s[:]\n",
    "        \n",
    "        if len(bestpalindrom) == 0:\n",
    "            bestpalindrom = s[0]\n",
    "        return bestpalindrom"
   ]
  },
  {
   "cell_type": "code",
   "execution_count": 5,
   "id": "f9d5ddce",
   "metadata": {},
   "outputs": [
    {
     "data": {
      "text/plain": [
       "'bb'"
      ]
     },
     "execution_count": 5,
     "metadata": {},
     "output_type": "execute_result"
    }
   ],
   "source": [
    "testing = Solution()\n",
    "testing.longestPalindrome('abbbccdd')"
   ]
  },
  {
   "cell_type": "code",
   "execution_count": 6,
   "id": "f386a737",
   "metadata": {},
   "outputs": [],
   "source": [
    "class Solution:\n",
    "    def longestPalindrome(self, s: str) -> str:\n",
    "        def expand(left: int, right: int):\n",
    "            while left >= 0 and right < len(s) and s[left] == s[right]:\n",
    "                left = left - 1\n",
    "                right = right + 1\n",
    "            return s[left+1:right]\n",
    "        #s = \"ajjjasjaajsjaaaaaaa\"\n",
    "        bestpalindrom = ''\n",
    "        right = 1\n",
    "        left = 0\n",
    "        for i in range(0,len(s)):\n",
    "            right = 1\n",
    "            left = 0\n",
    "            palindrom = expand(left+i,right+i)\n",
    "            if len(palindrom) > len(bestpalindrom):\n",
    "                bestpalindrom = palindrom\n",
    "            right = 2\n",
    "            left = 0\n",
    "            palindrom = expand(left+i,right+i)\n",
    "            if len(palindrom) > len(bestpalindrom):\n",
    "                bestpalindrom = palindrom\n",
    "        if len(s) == 1:\n",
    "            bestpalindrom = s[:]\n",
    "        \n",
    "        if len(bestpalindrom) == 0:\n",
    "            bestpalindrom = s[0]\n",
    "        return bestpalindrom"
   ]
  },
  {
   "cell_type": "code",
   "execution_count": 7,
   "id": "3b38b182",
   "metadata": {},
   "outputs": [
    {
     "data": {
      "text/plain": [
       "'bbb'"
      ]
     },
     "execution_count": 7,
     "metadata": {},
     "output_type": "execute_result"
    }
   ],
   "source": [
    "testing = Solution()\n",
    "testing.longestPalindrome('abbbccdd')"
   ]
  }
 ],
 "metadata": {
  "kernelspec": {
   "display_name": "Python 3",
   "language": "python",
   "name": "python3"
  },
  "language_info": {
   "codemirror_mode": {
    "name": "ipython",
    "version": 3
   },
   "file_extension": ".py",
   "mimetype": "text/x-python",
   "name": "python",
   "nbconvert_exporter": "python",
   "pygments_lexer": "ipython3",
   "version": "3.12.4"
  }
 },
 "nbformat": 4,
 "nbformat_minor": 5
}
